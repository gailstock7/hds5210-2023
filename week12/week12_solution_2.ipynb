{
 "cells": [
  {
   "cell_type": "markdown",
   "metadata": {
    "nbgrader": {
     "grade": false,
     "grade_id": "intro",
     "locked": true,
     "schema_version": 1,
     "solution": false
    }
   },
   "source": [
    "# Week 12 Assignment\n",
    "\n",
    "# PART 1 - Pivoting Data for Fun!\n",
    "\n",
    "In this exercise, we're going to work with data about condemned buildings in St. Louis.  This data set is in `https://hds5210-data.s3.awsamazon.com/condemn.txt` in CSV format."
   ]
  },
  {
   "cell_type": "markdown",
   "metadata": {
    "nbgrader": {
     "grade": false,
     "grade_id": "q1-intro",
     "locked": true,
     "schema_version": 1,
     "solution": false
    }
   },
   "source": [
    "## STEP 1: Load and Filter data\n",
    "\n",
    "For this analysis, we want to look only at a relevent range of years and only years that are in teh past.  So, let's first take a look at the data between 1986 and 2014 (inclusive of those dates).\n",
    "\n",
    "At the end of this step, you should have a data frame loaded from the condemnations file and filtered down to only the data between 1986 and 2014.  Put that into a dataframe named `condemnations`\n",
    "\n",
    "**Some helpful notes:**\n",
    "* Use the columns `InspectDate` to filter this date range"
   ]
  },
  {
   "cell_type": "code",
   "execution_count": 10,
   "metadata": {
    "nbgrader": {
     "grade": false,
     "grade_id": "q1-solution",
     "locked": false,
     "schema_version": 1,
     "solution": true
    }
   },
   "outputs": [
    {
     "data": {
      "text/plain": [
       "(32586, 40)"
      ]
     },
     "execution_count": 10,
     "metadata": {},
     "output_type": "execute_result"
    }
   ],
   "source": [
    "%matplotlib inline\n",
    "import pandas as pd\n",
    "\n",
    "condemnations = pd.read_csv('https://hds5210-data.s3.amazonaws.com/condemn.txt', low_memory=False)\n",
    "condemnations.shape"
   ]
  },
  {
   "cell_type": "code",
   "execution_count": null,
   "metadata": {},
   "outputs": [],
   "source": [
    "# The first time I did the pd.read_csv(), it gave me a warning about one of the columns having mixed data types\n",
    "# and that I should consider manually specifying the data type or setting low_memory=False\n",
    "# So, I set low_memory=False\n",
    "# See https://pandas.pydata.org/docs/reference/api/pandas.read_csv.html"
   ]
  },
  {
   "cell_type": "code",
   "execution_count": 11,
   "metadata": {},
   "outputs": [
    {
     "data": {
      "text/plain": [
       "0    1986-07-10 00:00:00\n",
       "1    2009-07-23 00:00:00\n",
       "2    2003-08-06 00:00:00\n",
       "3    1996-06-17 00:00:00\n",
       "4    2006-12-20 00:00:00\n",
       "Name: InspectDate, dtype: object"
      ]
     },
     "execution_count": 11,
     "metadata": {},
     "output_type": "execute_result"
    }
   ],
   "source": [
    "# Let's peak at the data to see what format this column is in\n",
    "condemnations['InspectDate'].head()"
   ]
  },
  {
   "cell_type": "code",
   "execution_count": 12,
   "metadata": {},
   "outputs": [],
   "source": [
    "# Create a filter on the inspection date and reassign the variable to our filtered dataframe\n",
    "year_filter = (condemnations['InspectDate'].str[:4] >= '1986') & (condemnations['InspectDate'].str[:4] <= '2014')\n",
    "condemnations = condemnations[year_filter]"
   ]
  },
  {
   "cell_type": "code",
   "execution_count": 14,
   "metadata": {},
   "outputs": [
    {
     "name": "stdout",
     "output_type": "stream",
     "text": [
      "(30232, 40)\n",
      "1986-01-03 00:00:00\n",
      "2014-12-30 08:19:00\n"
     ]
    }
   ],
   "source": [
    "# Let's check our assertions...\n",
    "print(condemnations.shape)\n",
    "print(min(condemnations['InspectDate']))\n",
    "print(max(condemnations['InspectDate']))"
   ]
  },
  {
   "cell_type": "code",
   "execution_count": 15,
   "metadata": {
    "nbgrader": {
     "grade": true,
     "grade_id": "q1-tests",
     "locked": true,
     "points": 6,
     "schema_version": 1,
     "solution": false
    }
   },
   "outputs": [],
   "source": [
    "assert(condemnations.shape == (30232, 40))\n",
    "assert(len(condemnations[condemnations['InspectDate'] < '1986'])==0)\n",
    "assert(len(condemnations[condemnations['InspectDate'] >= '2015'])==0)"
   ]
  },
  {
   "cell_type": "markdown",
   "metadata": {
    "nbgrader": {
     "grade": false,
     "grade_id": "q2-intro",
     "locked": true,
     "schema_version": 1,
     "solution": false
    }
   },
   "source": [
    "## STEP 2: Pivot and Summarize\n",
    "\n",
    "In this step we want to pivot our data so that we have one row per year, a column for each value that appears in the `Status` column, and a count of how many condemnations occurred of each type in each year.  Put your summary pivot table into a variable called `by_year`.\n",
    "\n",
    "**Some helpful notes:**\n",
    "* For some reason, Pandas is just kind of stubborn about count being the aggregate function.  You may need to tell it to `np.ma.count` specifically.  I've imported Numpy as np for you."
   ]
  },
  {
   "cell_type": "code",
   "execution_count": 21,
   "metadata": {},
   "outputs": [],
   "source": [
    "# We can do this lots of ways, but the easiest is probably a pivot table\n",
    "\n",
    "# First we need to create a \"year\" column, though\n",
    "condemnations['Year'] = condemnations['InspectDate'].str[0:4]\n",
    "\n",
    "# Then build our pivot table\n",
    "by_year = condemnations.pivot_table(\n",
    "    index='Year',\n",
    "    columns='Status',\n",
    "    aggfunc=\"count\",\n",
    "    values='AcctNum'\n",
    ")\n",
    "\n",
    "# You can ignore my comment about about using np.ma.count... \n",
    "# Aparently newer Pandas versions have resolved that weirdness"
   ]
  },
  {
   "cell_type": "code",
   "execution_count": 22,
   "metadata": {},
   "outputs": [
    {
     "data": {
      "text/html": [
       "<div>\n",
       "<style scoped>\n",
       "    .dataframe tbody tr th:only-of-type {\n",
       "        vertical-align: middle;\n",
       "    }\n",
       "\n",
       "    .dataframe tbody tr th {\n",
       "        vertical-align: top;\n",
       "    }\n",
       "\n",
       "    .dataframe thead th {\n",
       "        text-align: right;\n",
       "    }\n",
       "</style>\n",
       "<table border=\"1\" class=\"dataframe\">\n",
       "  <thead>\n",
       "    <tr style=\"text-align: right;\">\n",
       "      <th>Status</th>\n",
       "      <th>B</th>\n",
       "      <th>L</th>\n",
       "      <th>R</th>\n",
       "      <th>W</th>\n",
       "    </tr>\n",
       "    <tr>\n",
       "      <th>Year</th>\n",
       "      <th></th>\n",
       "      <th></th>\n",
       "      <th></th>\n",
       "      <th></th>\n",
       "    </tr>\n",
       "  </thead>\n",
       "  <tbody>\n",
       "    <tr>\n",
       "      <th>1986</th>\n",
       "      <td>22.0</td>\n",
       "      <td>12.0</td>\n",
       "      <td>19.0</td>\n",
       "      <td>112.0</td>\n",
       "    </tr>\n",
       "    <tr>\n",
       "      <th>1987</th>\n",
       "      <td>91.0</td>\n",
       "      <td>20.0</td>\n",
       "      <td>8.0</td>\n",
       "      <td>361.0</td>\n",
       "    </tr>\n",
       "    <tr>\n",
       "      <th>1988</th>\n",
       "      <td>215.0</td>\n",
       "      <td>16.0</td>\n",
       "      <td>15.0</td>\n",
       "      <td>297.0</td>\n",
       "    </tr>\n",
       "    <tr>\n",
       "      <th>1989</th>\n",
       "      <td>277.0</td>\n",
       "      <td>15.0</td>\n",
       "      <td>11.0</td>\n",
       "      <td>432.0</td>\n",
       "    </tr>\n",
       "    <tr>\n",
       "      <th>1990</th>\n",
       "      <td>119.0</td>\n",
       "      <td>29.0</td>\n",
       "      <td>8.0</td>\n",
       "      <td>322.0</td>\n",
       "    </tr>\n",
       "    <tr>\n",
       "      <th>1991</th>\n",
       "      <td>139.0</td>\n",
       "      <td>18.0</td>\n",
       "      <td>4.0</td>\n",
       "      <td>351.0</td>\n",
       "    </tr>\n",
       "    <tr>\n",
       "      <th>1992</th>\n",
       "      <td>204.0</td>\n",
       "      <td>30.0</td>\n",
       "      <td>4.0</td>\n",
       "      <td>258.0</td>\n",
       "    </tr>\n",
       "    <tr>\n",
       "      <th>1993</th>\n",
       "      <td>185.0</td>\n",
       "      <td>47.0</td>\n",
       "      <td>2.0</td>\n",
       "      <td>193.0</td>\n",
       "    </tr>\n",
       "    <tr>\n",
       "      <th>1994</th>\n",
       "      <td>208.0</td>\n",
       "      <td>94.0</td>\n",
       "      <td>5.0</td>\n",
       "      <td>293.0</td>\n",
       "    </tr>\n",
       "    <tr>\n",
       "      <th>1995</th>\n",
       "      <td>176.0</td>\n",
       "      <td>127.0</td>\n",
       "      <td>NaN</td>\n",
       "      <td>268.0</td>\n",
       "    </tr>\n",
       "    <tr>\n",
       "      <th>1996</th>\n",
       "      <td>214.0</td>\n",
       "      <td>171.0</td>\n",
       "      <td>NaN</td>\n",
       "      <td>794.0</td>\n",
       "    </tr>\n",
       "    <tr>\n",
       "      <th>1997</th>\n",
       "      <td>281.0</td>\n",
       "      <td>328.0</td>\n",
       "      <td>NaN</td>\n",
       "      <td>878.0</td>\n",
       "    </tr>\n",
       "    <tr>\n",
       "      <th>1998</th>\n",
       "      <td>254.0</td>\n",
       "      <td>343.0</td>\n",
       "      <td>NaN</td>\n",
       "      <td>599.0</td>\n",
       "    </tr>\n",
       "    <tr>\n",
       "      <th>1999</th>\n",
       "      <td>272.0</td>\n",
       "      <td>283.0</td>\n",
       "      <td>NaN</td>\n",
       "      <td>826.0</td>\n",
       "    </tr>\n",
       "    <tr>\n",
       "      <th>2000</th>\n",
       "      <td>320.0</td>\n",
       "      <td>268.0</td>\n",
       "      <td>NaN</td>\n",
       "      <td>529.0</td>\n",
       "    </tr>\n",
       "    <tr>\n",
       "      <th>2001</th>\n",
       "      <td>381.0</td>\n",
       "      <td>262.0</td>\n",
       "      <td>NaN</td>\n",
       "      <td>296.0</td>\n",
       "    </tr>\n",
       "    <tr>\n",
       "      <th>2002</th>\n",
       "      <td>383.0</td>\n",
       "      <td>227.0</td>\n",
       "      <td>NaN</td>\n",
       "      <td>317.0</td>\n",
       "    </tr>\n",
       "    <tr>\n",
       "      <th>2003</th>\n",
       "      <td>361.0</td>\n",
       "      <td>201.0</td>\n",
       "      <td>NaN</td>\n",
       "      <td>282.0</td>\n",
       "    </tr>\n",
       "    <tr>\n",
       "      <th>2004</th>\n",
       "      <td>354.0</td>\n",
       "      <td>204.0</td>\n",
       "      <td>NaN</td>\n",
       "      <td>381.0</td>\n",
       "    </tr>\n",
       "    <tr>\n",
       "      <th>2005</th>\n",
       "      <td>410.0</td>\n",
       "      <td>237.0</td>\n",
       "      <td>NaN</td>\n",
       "      <td>345.0</td>\n",
       "    </tr>\n",
       "    <tr>\n",
       "      <th>2006</th>\n",
       "      <td>479.0</td>\n",
       "      <td>233.0</td>\n",
       "      <td>20.0</td>\n",
       "      <td>370.0</td>\n",
       "    </tr>\n",
       "    <tr>\n",
       "      <th>2007</th>\n",
       "      <td>613.0</td>\n",
       "      <td>262.0</td>\n",
       "      <td>NaN</td>\n",
       "      <td>341.0</td>\n",
       "    </tr>\n",
       "    <tr>\n",
       "      <th>2008</th>\n",
       "      <td>700.0</td>\n",
       "      <td>254.0</td>\n",
       "      <td>NaN</td>\n",
       "      <td>334.0</td>\n",
       "    </tr>\n",
       "    <tr>\n",
       "      <th>2009</th>\n",
       "      <td>785.0</td>\n",
       "      <td>223.0</td>\n",
       "      <td>NaN</td>\n",
       "      <td>200.0</td>\n",
       "    </tr>\n",
       "    <tr>\n",
       "      <th>2010</th>\n",
       "      <td>1161.0</td>\n",
       "      <td>193.0</td>\n",
       "      <td>NaN</td>\n",
       "      <td>154.0</td>\n",
       "    </tr>\n",
       "    <tr>\n",
       "      <th>2011</th>\n",
       "      <td>1028.0</td>\n",
       "      <td>275.0</td>\n",
       "      <td>NaN</td>\n",
       "      <td>107.0</td>\n",
       "    </tr>\n",
       "    <tr>\n",
       "      <th>2012</th>\n",
       "      <td>738.0</td>\n",
       "      <td>257.0</td>\n",
       "      <td>1.0</td>\n",
       "      <td>28.0</td>\n",
       "    </tr>\n",
       "    <tr>\n",
       "      <th>2013</th>\n",
       "      <td>185.0</td>\n",
       "      <td>209.0</td>\n",
       "      <td>1.0</td>\n",
       "      <td>2.0</td>\n",
       "    </tr>\n",
       "    <tr>\n",
       "      <th>2014</th>\n",
       "      <td>17.0</td>\n",
       "      <td>128.0</td>\n",
       "      <td>NaN</td>\n",
       "      <td>NaN</td>\n",
       "    </tr>\n",
       "  </tbody>\n",
       "</table>\n",
       "</div>"
      ],
      "text/plain": [
       "Status       B      L     R      W\n",
       "Year                              \n",
       "1986      22.0   12.0  19.0  112.0\n",
       "1987      91.0   20.0   8.0  361.0\n",
       "1988     215.0   16.0  15.0  297.0\n",
       "1989     277.0   15.0  11.0  432.0\n",
       "1990     119.0   29.0   8.0  322.0\n",
       "1991     139.0   18.0   4.0  351.0\n",
       "1992     204.0   30.0   4.0  258.0\n",
       "1993     185.0   47.0   2.0  193.0\n",
       "1994     208.0   94.0   5.0  293.0\n",
       "1995     176.0  127.0   NaN  268.0\n",
       "1996     214.0  171.0   NaN  794.0\n",
       "1997     281.0  328.0   NaN  878.0\n",
       "1998     254.0  343.0   NaN  599.0\n",
       "1999     272.0  283.0   NaN  826.0\n",
       "2000     320.0  268.0   NaN  529.0\n",
       "2001     381.0  262.0   NaN  296.0\n",
       "2002     383.0  227.0   NaN  317.0\n",
       "2003     361.0  201.0   NaN  282.0\n",
       "2004     354.0  204.0   NaN  381.0\n",
       "2005     410.0  237.0   NaN  345.0\n",
       "2006     479.0  233.0  20.0  370.0\n",
       "2007     613.0  262.0   NaN  341.0\n",
       "2008     700.0  254.0   NaN  334.0\n",
       "2009     785.0  223.0   NaN  200.0\n",
       "2010    1161.0  193.0   NaN  154.0\n",
       "2011    1028.0  275.0   NaN  107.0\n",
       "2012     738.0  257.0   1.0   28.0\n",
       "2013     185.0  209.0   1.0    2.0\n",
       "2014      17.0  128.0   NaN    NaN"
      ]
     },
     "execution_count": 22,
     "metadata": {},
     "output_type": "execute_result"
    }
   ],
   "source": [
    "# Let's check out the data frame to see if it looks right\n",
    "by_year"
   ]
  },
  {
   "cell_type": "code",
   "execution_count": 24,
   "metadata": {
    "nbgrader": {
     "grade": true,
     "grade_id": "q2-tests",
     "locked": true,
     "points": 6,
     "schema_version": 1,
     "solution": false
    }
   },
   "outputs": [],
   "source": [
    "assert(by_year.shape == (29, 4))\n",
    "assert(list(by_year.columns) == ['B', 'L', 'R', 'W'])\n",
    "assert(list(by_year.sum()) == [10572, 4966, 98, 9670])"
   ]
  },
  {
   "cell_type": "markdown",
   "metadata": {
    "nbgrader": {
     "grade": false,
     "grade_id": "q3-intro",
     "locked": true,
     "schema_version": 1,
     "solution": false
    }
   },
   "source": [
    "## STEP 3: Plot and see what you see\n",
    "\n",
    "Use Pandas built-in plotting capabilities to visualize this information in way that you think makes sense.  It might be that plotting a simple multi-series line chart would give you some insights.  Show your plot in the cell below, then use the text cell below that to write a few sentences about what you see.\n"
   ]
  },
  {
   "cell_type": "code",
   "execution_count": 25,
   "metadata": {
    "nbgrader": {
     "grade": true,
     "grade_id": "q3-manual",
     "locked": false,
     "points": 5,
     "schema_version": 1,
     "solution": true
    }
   },
   "outputs": [
    {
     "data": {
      "text/plain": [
       "<Axes: xlabel='Year'>"
      ]
     },
     "execution_count": 25,
     "metadata": {},
     "output_type": "execute_result"
    },
    {
     "data": {
      "image/png": "[encoded data removed]",
      "text/plain": [
       "<Figure size 640x480 with 1 Axes>"
      ]
     },
     "metadata": {},
     "output_type": "display_data"
    }
   ],
   "source": [
    "%matplotlib inline\n",
    "by_year.plot()"
   ]
  },
  {
   "cell_type": "markdown",
   "metadata": {},
   "source": [
    "---"
   ]
  },
  {
   "cell_type": "code",
   "execution_count": null,
   "metadata": {},
   "outputs": [],
   "source": []
  },
  {
   "cell_type": "markdown",
   "metadata": {},
   "source": [
    "# PART 2 - Video Conference Usage\n",
    "\n",
    "In this next part of the assignment, we'll be looking at how video conference usage changed during the beginning of COVID-19.  This real data.  Please don't judge anyone based on the information here.  ;)  The data is in the `https://hds5210-data.s3.amazonaws.com/meetings.csv` file.\n",
    "\n",
    "For the assignment, I want you to compare (by person) the number of meetings hosted by each user for the last two weeks of February and the last two weeks of March.  This might be a little complicated to think through HOW to do that, so the steps below are one approach.\n",
    "\n",
    "1. Create a new column called startDate that contains just the day part of the startTime column in the data.  You can do that using datetime functions if you want, but you'll notice that the date in this file is a string formatted YYYY-MM-DD-HH:mm:ss, so it's probably easier just to pull out the first 10 characters of the string instead.  `meetings['startTime'].str[0:10]`\n",
    "2. Create another new column.  This one should contain a label like \"BEFORE\" for the week 2/17 - 2/28 and \"DURING\" for the week of 3/16 - 3/27.  A hand tip on this is that you can set values for some rows in a data frame using `meetings.loc[row_filter,'Column Name'] = 'Value'` if you've created a `row_filter` as we discussed in prior weeks.\n",
    "3. From here, using `pivot_table()` is one good way to summarize the information.\n",
    "\n",
    "**FINAL RESULT**\n",
    "\n",
    "For a final result, I'd like you to produce a data frame named **summary** that contains:\n",
    "* One ROW for each userName.  The userName can either be the row index or a column in the data frame.\n",
    "* One COLUMN for the \"BEFORE\" week and one COLUMN for the \"DURING\" week.  Name those columns 'Before' and 'During'.\n",
    "* One more calculated column that shows the percent increase from BEFORE to DURING.  Name that column 'pctChange'.\n"
   ]
  },
  {
   "cell_type": "code",
   "execution_count": 23,
   "metadata": {},
   "outputs": [],
   "source": [
    "import pandas as pd\n",
    "meetings = pd.read_csv('https://hds5210-data.s3.amazonaws.com/meetings.csv')"
   ]
  },
  {
   "cell_type": "code",
   "execution_count": 24,
   "metadata": {},
   "outputs": [
    {
     "data": {
      "text/html": [
       "<div>\n",
       "<style scoped>\n",
       "    .dataframe tbody tr th:only-of-type {\n",
       "        vertical-align: middle;\n",
       "    }\n",
       "\n",
       "    .dataframe tbody tr th {\n",
       "        vertical-align: top;\n",
       "    }\n",
       "\n",
       "    .dataframe thead th {\n",
       "        text-align: right;\n",
       "    }\n",
       "</style>\n",
       "<table border=\"1\" class=\"dataframe\">\n",
       "  <thead>\n",
       "    <tr style=\"text-align: right;\">\n",
       "      <th></th>\n",
       "      <th>meeting_uuid</th>\n",
       "      <th>meetingTitle</th>\n",
       "      <th>meetingId</th>\n",
       "      <th>userName</th>\n",
       "      <th>user_id</th>\n",
       "      <th>user_tags</th>\n",
       "      <th>endTime</th>\n",
       "      <th>startTime</th>\n",
       "      <th>email</th>\n",
       "      <th>participantSeconds</th>\n",
       "      <th>...</th>\n",
       "      <th>meetingDurationMinutes</th>\n",
       "      <th>popId</th>\n",
       "      <th>userType</th>\n",
       "      <th>billable</th>\n",
       "      <th>moderatorLess</th>\n",
       "      <th>start_time</th>\n",
       "      <th>total_highlights_created</th>\n",
       "      <th>smart_meeting</th>\n",
       "      <th>transcription_used</th>\n",
       "      <th>total_transcription_duration_minutes</th>\n",
       "    </tr>\n",
       "  </thead>\n",
       "  <tbody>\n",
       "    <tr>\n",
       "      <th>0</th>\n",
       "      <td>418897-3b9f0feb-f8f4-4ae7-9464-eb983c30af60</td>\n",
       "      <td>Review Payer Websites</td>\n",
       "      <td>681568231</td>\n",
       "      <td>chris.rogers.amitechsolutions</td>\n",
       "      <td>3180644</td>\n",
       "      <td>NaN</td>\n",
       "      <td>2020-03-31 22:21:35</td>\n",
       "      <td>2020-03-31 21:00:22</td>\n",
       "      <td>chris.rogers@amitechsolutions.com</td>\n",
       "      <td>19386</td>\n",
       "      <td>...</td>\n",
       "      <td>81.2167</td>\n",
       "      <td>26</td>\n",
       "      <td>ENTERPRISE_PAID</td>\n",
       "      <td>True</td>\n",
       "      <td>True</td>\n",
       "      <td>2020-03-31 21:00:22.0</td>\n",
       "      <td>NaN</td>\n",
       "      <td>NaN</td>\n",
       "      <td>NaN</td>\n",
       "      <td>NaN</td>\n",
       "    </tr>\n",
       "    <tr>\n",
       "      <th>1</th>\n",
       "      <td>418897-14587f14-faf0-4879-9756-fe335357b413</td>\n",
       "      <td>Drew's Meeting</td>\n",
       "      <td>258719784</td>\n",
       "      <td>Drew.Marco</td>\n",
       "      <td>2717893</td>\n",
       "      <td>NaN</td>\n",
       "      <td>2020-03-31 21:30:37</td>\n",
       "      <td>2020-03-31 20:58:41</td>\n",
       "      <td>Drew.Marco@AmitechSolutions.com</td>\n",
       "      <td>7242</td>\n",
       "      <td>...</td>\n",
       "      <td>31.9333</td>\n",
       "      <td>25</td>\n",
       "      <td>ENTERPRISE_PAID</td>\n",
       "      <td>True</td>\n",
       "      <td>True</td>\n",
       "      <td>2020-03-31 20:58:41.0</td>\n",
       "      <td>NaN</td>\n",
       "      <td>NaN</td>\n",
       "      <td>NaN</td>\n",
       "      <td>NaN</td>\n",
       "    </tr>\n",
       "    <tr>\n",
       "      <th>2</th>\n",
       "      <td>418897-aa82b3f0-e3df-456a-80d5-daef7902c232</td>\n",
       "      <td>St. Luke's Project Discussion</td>\n",
       "      <td>415828450</td>\n",
       "      <td>eric.keeney</td>\n",
       "      <td>2692908</td>\n",
       "      <td>NaN</td>\n",
       "      <td>2020-03-31 22:48:43</td>\n",
       "      <td>2020-03-31 20:57:51</td>\n",
       "      <td>eric.keeney@amitechsolutions.com</td>\n",
       "      <td>38469</td>\n",
       "      <td>...</td>\n",
       "      <td>110.8667</td>\n",
       "      <td>25</td>\n",
       "      <td>ENTERPRISE_PAID</td>\n",
       "      <td>True</td>\n",
       "      <td>True</td>\n",
       "      <td>2020-03-31 20:57:51.0</td>\n",
       "      <td>NaN</td>\n",
       "      <td>NaN</td>\n",
       "      <td>NaN</td>\n",
       "      <td>NaN</td>\n",
       "    </tr>\n",
       "    <tr>\n",
       "      <th>3</th>\n",
       "      <td>418867-f5fadea7-75f8-4860-9a1e-090805ff6346</td>\n",
       "      <td>Amit's Meeting</td>\n",
       "      <td>275007771</td>\n",
       "      <td>amit.bhagat</td>\n",
       "      <td>2756615</td>\n",
       "      <td>NaN</td>\n",
       "      <td>2020-03-31 21:02:28</td>\n",
       "      <td>2020-03-31 20:34:43</td>\n",
       "      <td>amit.bhagat@amitechsolutions.com</td>\n",
       "      <td>6394</td>\n",
       "      <td>...</td>\n",
       "      <td>27.7500</td>\n",
       "      <td>110</td>\n",
       "      <td>ENTERPRISE_PAID</td>\n",
       "      <td>True</td>\n",
       "      <td>True</td>\n",
       "      <td>2020-03-31 20:34:43.0</td>\n",
       "      <td>NaN</td>\n",
       "      <td>NaN</td>\n",
       "      <td>NaN</td>\n",
       "      <td>NaN</td>\n",
       "    </tr>\n",
       "    <tr>\n",
       "      <th>4</th>\n",
       "      <td>418894-3a911019-1a97-4058-8bd4-035245c73bda</td>\n",
       "      <td>Andrea's Meeting</td>\n",
       "      <td>791412043</td>\n",
       "      <td>andrea.bryant.amitechsolutions</td>\n",
       "      <td>2673353</td>\n",
       "      <td>NaN</td>\n",
       "      <td>2020-03-31 20:49:46</td>\n",
       "      <td>2020-03-31 20:30:02</td>\n",
       "      <td>hr-dept@amitechsolutions.com</td>\n",
       "      <td>3363</td>\n",
       "      <td>...</td>\n",
       "      <td>19.7333</td>\n",
       "      <td>25</td>\n",
       "      <td>ENTERPRISE_PAID</td>\n",
       "      <td>True</td>\n",
       "      <td>True</td>\n",
       "      <td>2020-03-31 20:30:02.0</td>\n",
       "      <td>NaN</td>\n",
       "      <td>NaN</td>\n",
       "      <td>NaN</td>\n",
       "      <td>NaN</td>\n",
       "    </tr>\n",
       "  </tbody>\n",
       "</table>\n",
       "<p>5 rows × 25 columns</p>\n",
       "</div>"
      ],
      "text/plain": [
       "                                  meeting_uuid                   meetingTitle  \\\n",
       "0  418897-3b9f0feb-f8f4-4ae7-9464-eb983c30af60          Review Payer Websites   \n",
       "1  418897-14587f14-faf0-4879-9756-fe335357b413                 Drew's Meeting   \n",
       "2  418897-aa82b3f0-e3df-456a-80d5-daef7902c232  St. Luke's Project Discussion   \n",
       "3  418867-f5fadea7-75f8-4860-9a1e-090805ff6346                 Amit's Meeting   \n",
       "4  418894-3a911019-1a97-4058-8bd4-035245c73bda               Andrea's Meeting   \n",
       "\n",
       "   meetingId                        userName  user_id  user_tags  \\\n",
       "0  681568231   chris.rogers.amitechsolutions  3180644        NaN   \n",
       "1  258719784                      Drew.Marco  2717893        NaN   \n",
       "2  415828450                     eric.keeney  2692908        NaN   \n",
       "3  275007771                     amit.bhagat  2756615        NaN   \n",
       "4  791412043  andrea.bryant.amitechsolutions  2673353        NaN   \n",
       "\n",
       "               endTime            startTime  \\\n",
       "0  2020-03-31 22:21:35  2020-03-31 21:00:22   \n",
       "1  2020-03-31 21:30:37  2020-03-31 20:58:41   \n",
       "2  2020-03-31 22:48:43  2020-03-31 20:57:51   \n",
       "3  2020-03-31 21:02:28  2020-03-31 20:34:43   \n",
       "4  2020-03-31 20:49:46  2020-03-31 20:30:02   \n",
       "\n",
       "                               email  participantSeconds  ...  \\\n",
       "0  chris.rogers@amitechsolutions.com               19386  ...   \n",
       "1    Drew.Marco@AmitechSolutions.com                7242  ...   \n",
       "2   eric.keeney@amitechsolutions.com               38469  ...   \n",
       "3   amit.bhagat@amitechsolutions.com                6394  ...   \n",
       "4       hr-dept@amitechsolutions.com                3363  ...   \n",
       "\n",
       "  meetingDurationMinutes popId         userType  billable  moderatorLess  \\\n",
       "0                81.2167    26  ENTERPRISE_PAID      True           True   \n",
       "1                31.9333    25  ENTERPRISE_PAID      True           True   \n",
       "2               110.8667    25  ENTERPRISE_PAID      True           True   \n",
       "3                27.7500   110  ENTERPRISE_PAID      True           True   \n",
       "4                19.7333    25  ENTERPRISE_PAID      True           True   \n",
       "\n",
       "              start_time  total_highlights_created smart_meeting  \\\n",
       "0  2020-03-31 21:00:22.0                       NaN           NaN   \n",
       "1  2020-03-31 20:58:41.0                       NaN           NaN   \n",
       "2  2020-03-31 20:57:51.0                       NaN           NaN   \n",
       "3  2020-03-31 20:34:43.0                       NaN           NaN   \n",
       "4  2020-03-31 20:30:02.0                       NaN           NaN   \n",
       "\n",
       "   transcription_used  total_transcription_duration_minutes  \n",
       "0                 NaN                                   NaN  \n",
       "1                 NaN                                   NaN  \n",
       "2                 NaN                                   NaN  \n",
       "3                 NaN                                   NaN  \n",
       "4                 NaN                                   NaN  \n",
       "\n",
       "[5 rows x 25 columns]"
      ]
     },
     "execution_count": 24,
     "metadata": {},
     "output_type": "execute_result"
    }
   ],
   "source": [
    "# Look at our data to see what we've got\n",
    "meetings.head()"
   ]
  },
  {
   "cell_type": "code",
   "execution_count": 25,
   "metadata": {},
   "outputs": [
    {
     "data": {
      "text/plain": [
       "(1188, 25)"
      ]
     },
     "execution_count": 25,
     "metadata": {},
     "output_type": "execute_result"
    }
   ],
   "source": [
    "meetings.shape"
   ]
  },
  {
   "cell_type": "code",
   "execution_count": 26,
   "metadata": {},
   "outputs": [],
   "source": [
    "# Create start date column\n",
    "meetings['startDate'] = meetings['startTime'].str[0:10]\n",
    "\n",
    "# Create before and during filters\n",
    "before_filter = (meetings['startDate'] >= '2020-02-17') & (meetings['startDate'] <= '2020-02-28')\n",
    "during_filter = (meetings['startDate'] >= '2020-03-16') & (meetings['startDate'] <= '2020-03-27')\n",
    "\n",
    "# Create the Time Frame column with our \"BEFORE\" or \"DURING\" value\n",
    "meetings.loc[before_filter, 'timeFrame'] = 'Before'\n",
    "meetings.loc[during_filter, 'timeFrame'] = 'During'"
   ]
  },
  {
   "cell_type": "code",
   "execution_count": 27,
   "metadata": {},
   "outputs": [
    {
     "data": {
      "text/plain": [
       "During    278\n",
       "Before    179\n",
       "Name: timeFrame, dtype: int64"
      ]
     },
     "execution_count": 27,
     "metadata": {},
     "output_type": "execute_result"
    }
   ],
   "source": [
    "# Let's look at our new columns to see if it looks basically right\n",
    "meetings['timeFrame'].value_counts()"
   ]
  },
  {
   "cell_type": "code",
   "execution_count": 34,
   "metadata": {},
   "outputs": [],
   "source": [
    "# Now we want to pivot our data so each timeFrame value becomes a separate column and we only have one row per user\n",
    "summary = meetings.pivot_table(\n",
    "    index='userName',\n",
    "    columns='timeFrame',\n",
    "    values='meeting_uuid',\n",
    "    aggfunc='count',\n",
    "    fill_value=0\n",
    ")"
   ]
  },
  {
   "cell_type": "code",
   "execution_count": 35,
   "metadata": {},
   "outputs": [
    {
     "data": {
      "text/html": [
       "<div>\n",
       "<style scoped>\n",
       "    .dataframe tbody tr th:only-of-type {\n",
       "        vertical-align: middle;\n",
       "    }\n",
       "\n",
       "    .dataframe tbody tr th {\n",
       "        vertical-align: top;\n",
       "    }\n",
       "\n",
       "    .dataframe thead th {\n",
       "        text-align: right;\n",
       "    }\n",
       "</style>\n",
       "<table border=\"1\" class=\"dataframe\">\n",
       "  <thead>\n",
       "    <tr style=\"text-align: right;\">\n",
       "      <th>timeFrame</th>\n",
       "      <th>Before</th>\n",
       "      <th>During</th>\n",
       "    </tr>\n",
       "    <tr>\n",
       "      <th>userName</th>\n",
       "      <th></th>\n",
       "      <th></th>\n",
       "    </tr>\n",
       "  </thead>\n",
       "  <tbody>\n",
       "    <tr>\n",
       "      <th>Drew.Marco</th>\n",
       "      <td>12</td>\n",
       "      <td>19</td>\n",
       "    </tr>\n",
       "    <tr>\n",
       "      <th>amit.bhagat</th>\n",
       "      <td>17</td>\n",
       "      <td>30</td>\n",
       "    </tr>\n",
       "    <tr>\n",
       "      <th>andrea.bryant.amitechsolutions</th>\n",
       "      <td>5</td>\n",
       "      <td>3</td>\n",
       "    </tr>\n",
       "    <tr>\n",
       "      <th>angie.warren</th>\n",
       "      <td>5</td>\n",
       "      <td>9</td>\n",
       "    </tr>\n",
       "    <tr>\n",
       "      <th>chris.rogers.amitechsolutions</th>\n",
       "      <td>4</td>\n",
       "      <td>3</td>\n",
       "    </tr>\n",
       "  </tbody>\n",
       "</table>\n",
       "</div>"
      ],
      "text/plain": [
       "timeFrame                       Before  During\n",
       "userName                                      \n",
       "Drew.Marco                          12      19\n",
       "amit.bhagat                         17      30\n",
       "andrea.bryant.amitechsolutions       5       3\n",
       "angie.warren                         5       9\n",
       "chris.rogers.amitechsolutions        4       3"
      ]
     },
     "execution_count": 35,
     "metadata": {},
     "output_type": "execute_result"
    }
   ],
   "source": [
    "# Did we do something that makes sense?\n",
    "summary.head()"
   ]
  },
  {
   "cell_type": "code",
   "execution_count": 36,
   "metadata": {},
   "outputs": [],
   "source": [
    "# Now, let's calculate a difference and percent change\n",
    "summary['change'] = summary['During'] - summary['Before']\n",
    "summary['pctChange'] = summary['change'] / summary['Before']"
   ]
  },
  {
   "cell_type": "code",
   "execution_count": 37,
   "metadata": {},
   "outputs": [
    {
     "data": {
      "text/html": [
       "<div>\n",
       "<style scoped>\n",
       "    .dataframe tbody tr th:only-of-type {\n",
       "        vertical-align: middle;\n",
       "    }\n",
       "\n",
       "    .dataframe tbody tr th {\n",
       "        vertical-align: top;\n",
       "    }\n",
       "\n",
       "    .dataframe thead th {\n",
       "        text-align: right;\n",
       "    }\n",
       "</style>\n",
       "<table border=\"1\" class=\"dataframe\">\n",
       "  <thead>\n",
       "    <tr style=\"text-align: right;\">\n",
       "      <th>timeFrame</th>\n",
       "      <th>Before</th>\n",
       "      <th>During</th>\n",
       "      <th>change</th>\n",
       "      <th>pctChange</th>\n",
       "    </tr>\n",
       "    <tr>\n",
       "      <th>userName</th>\n",
       "      <th></th>\n",
       "      <th></th>\n",
       "      <th></th>\n",
       "      <th></th>\n",
       "    </tr>\n",
       "  </thead>\n",
       "  <tbody>\n",
       "    <tr>\n",
       "      <th>Drew.Marco</th>\n",
       "      <td>12</td>\n",
       "      <td>19</td>\n",
       "      <td>7</td>\n",
       "      <td>0.583333</td>\n",
       "    </tr>\n",
       "    <tr>\n",
       "      <th>amit.bhagat</th>\n",
       "      <td>17</td>\n",
       "      <td>30</td>\n",
       "      <td>13</td>\n",
       "      <td>0.764706</td>\n",
       "    </tr>\n",
       "    <tr>\n",
       "      <th>andrea.bryant.amitechsolutions</th>\n",
       "      <td>5</td>\n",
       "      <td>3</td>\n",
       "      <td>-2</td>\n",
       "      <td>-0.400000</td>\n",
       "    </tr>\n",
       "    <tr>\n",
       "      <th>angie.warren</th>\n",
       "      <td>5</td>\n",
       "      <td>9</td>\n",
       "      <td>4</td>\n",
       "      <td>0.800000</td>\n",
       "    </tr>\n",
       "    <tr>\n",
       "      <th>chris.rogers.amitechsolutions</th>\n",
       "      <td>4</td>\n",
       "      <td>3</td>\n",
       "      <td>-1</td>\n",
       "      <td>-0.250000</td>\n",
       "    </tr>\n",
       "    <tr>\n",
       "      <th>eric.keeney</th>\n",
       "      <td>15</td>\n",
       "      <td>27</td>\n",
       "      <td>12</td>\n",
       "      <td>0.800000</td>\n",
       "    </tr>\n",
       "    <tr>\n",
       "      <th>eric.rodman</th>\n",
       "      <td>4</td>\n",
       "      <td>12</td>\n",
       "      <td>8</td>\n",
       "      <td>2.000000</td>\n",
       "    </tr>\n",
       "    <tr>\n",
       "      <th>jeff.hatfield.amitechsolutions</th>\n",
       "      <td>13</td>\n",
       "      <td>26</td>\n",
       "      <td>13</td>\n",
       "      <td>1.000000</td>\n",
       "    </tr>\n",
       "    <tr>\n",
       "      <th>jennifer.patton.amitechs</th>\n",
       "      <td>5</td>\n",
       "      <td>7</td>\n",
       "      <td>2</td>\n",
       "      <td>0.400000</td>\n",
       "    </tr>\n",
       "    <tr>\n",
       "      <th>jessica.sikora</th>\n",
       "      <td>3</td>\n",
       "      <td>7</td>\n",
       "      <td>4</td>\n",
       "      <td>1.333333</td>\n",
       "    </tr>\n",
       "    <tr>\n",
       "      <th>matt.allsup</th>\n",
       "      <td>5</td>\n",
       "      <td>0</td>\n",
       "      <td>-5</td>\n",
       "      <td>-1.000000</td>\n",
       "    </tr>\n",
       "    <tr>\n",
       "      <th>matt.brown.amitechsolutions</th>\n",
       "      <td>1</td>\n",
       "      <td>2</td>\n",
       "      <td>1</td>\n",
       "      <td>1.000000</td>\n",
       "    </tr>\n",
       "    <tr>\n",
       "      <th>melissa.menne</th>\n",
       "      <td>10</td>\n",
       "      <td>9</td>\n",
       "      <td>-1</td>\n",
       "      <td>-0.100000</td>\n",
       "    </tr>\n",
       "    <tr>\n",
       "      <th>michael.demos</th>\n",
       "      <td>5</td>\n",
       "      <td>11</td>\n",
       "      <td>6</td>\n",
       "      <td>1.200000</td>\n",
       "    </tr>\n",
       "    <tr>\n",
       "      <th>paul.boal</th>\n",
       "      <td>15</td>\n",
       "      <td>35</td>\n",
       "      <td>20</td>\n",
       "      <td>1.333333</td>\n",
       "    </tr>\n",
       "    <tr>\n",
       "      <th>paul.smith.amitechsolutions</th>\n",
       "      <td>23</td>\n",
       "      <td>10</td>\n",
       "      <td>-13</td>\n",
       "      <td>-0.565217</td>\n",
       "    </tr>\n",
       "    <tr>\n",
       "      <th>pete.cornwell</th>\n",
       "      <td>1</td>\n",
       "      <td>9</td>\n",
       "      <td>8</td>\n",
       "      <td>8.000000</td>\n",
       "    </tr>\n",
       "    <tr>\n",
       "      <th>raghavender.tuniki</th>\n",
       "      <td>6</td>\n",
       "      <td>2</td>\n",
       "      <td>-4</td>\n",
       "      <td>-0.666667</td>\n",
       "    </tr>\n",
       "    <tr>\n",
       "      <th>sandip.shaw</th>\n",
       "      <td>9</td>\n",
       "      <td>2</td>\n",
       "      <td>-7</td>\n",
       "      <td>-0.777778</td>\n",
       "    </tr>\n",
       "    <tr>\n",
       "      <th>santhosh.kanala</th>\n",
       "      <td>2</td>\n",
       "      <td>6</td>\n",
       "      <td>4</td>\n",
       "      <td>2.000000</td>\n",
       "    </tr>\n",
       "    <tr>\n",
       "      <th>shawn.reilly.amitechsolutions</th>\n",
       "      <td>7</td>\n",
       "      <td>10</td>\n",
       "      <td>3</td>\n",
       "      <td>0.428571</td>\n",
       "    </tr>\n",
       "    <tr>\n",
       "      <th>tejus.maduskar</th>\n",
       "      <td>12</td>\n",
       "      <td>39</td>\n",
       "      <td>27</td>\n",
       "      <td>2.250000</td>\n",
       "    </tr>\n",
       "  </tbody>\n",
       "</table>\n",
       "</div>"
      ],
      "text/plain": [
       "timeFrame                       Before  During  change  pctChange\n",
       "userName                                                         \n",
       "Drew.Marco                          12      19       7   0.583333\n",
       "amit.bhagat                         17      30      13   0.764706\n",
       "andrea.bryant.amitechsolutions       5       3      -2  -0.400000\n",
       "angie.warren                         5       9       4   0.800000\n",
       "chris.rogers.amitechsolutions        4       3      -1  -0.250000\n",
       "eric.keeney                         15      27      12   0.800000\n",
       "eric.rodman                          4      12       8   2.000000\n",
       "jeff.hatfield.amitechsolutions      13      26      13   1.000000\n",
       "jennifer.patton.amitechs             5       7       2   0.400000\n",
       "jessica.sikora                       3       7       4   1.333333\n",
       "matt.allsup                          5       0      -5  -1.000000\n",
       "matt.brown.amitechsolutions          1       2       1   1.000000\n",
       "melissa.menne                       10       9      -1  -0.100000\n",
       "michael.demos                        5      11       6   1.200000\n",
       "paul.boal                           15      35      20   1.333333\n",
       "paul.smith.amitechsolutions         23      10     -13  -0.565217\n",
       "pete.cornwell                        1       9       8   8.000000\n",
       "raghavender.tuniki                   6       2      -4  -0.666667\n",
       "sandip.shaw                          9       2      -7  -0.777778\n",
       "santhosh.kanala                      2       6       4   2.000000\n",
       "shawn.reilly.amitechsolutions        7      10       3   0.428571\n",
       "tejus.maduskar                      12      39      27   2.250000"
      ]
     },
     "execution_count": 37,
     "metadata": {},
     "output_type": "execute_result"
    }
   ],
   "source": [
    "# Let's look again\n",
    "summary"
   ]
  },
  {
   "cell_type": "code",
   "execution_count": 38,
   "metadata": {},
   "outputs": [
    {
     "data": {
      "text/plain": [
       "(22, 4)"
      ]
     },
     "execution_count": 38,
     "metadata": {},
     "output_type": "execute_result"
    }
   ],
   "source": [
    "# Looks like we need to clean up one row: Vishal Dev\n",
    "summary.dropna(subset='pctChange', inplace=True)\n",
    "summary.shape"
   ]
  },
  {
   "cell_type": "markdown",
   "metadata": {},
   "source": [
    "---"
   ]
  },
  {
   "cell_type": "code",
   "execution_count": 39,
   "metadata": {},
   "outputs": [],
   "source": [
    "assert(len(summary) == 22)"
   ]
  },
  {
   "cell_type": "code",
   "execution_count": 40,
   "metadata": {},
   "outputs": [
    {
     "data": {
      "text/plain": [
       "0.9151643397807079"
      ]
     },
     "execution_count": 40,
     "metadata": {},
     "output_type": "execute_result"
    }
   ],
   "source": [
    "summary['pctChange'].mean()"
   ]
  },
  {
   "cell_type": "code",
   "execution_count": 41,
   "metadata": {},
   "outputs": [],
   "source": [
    "assert(summary['pctChange'].mean().round(2) == 0.92)"
   ]
  },
  {
   "cell_type": "code",
   "execution_count": null,
   "metadata": {},
   "outputs": [],
   "source": []
  },
  {
   "cell_type": "markdown",
   "metadata": {},
   "source": [
    "\n",
    "\n",
    "---\n",
    "\n",
    "\n",
    "\n",
    "## Submitting Your Work\n",
    "\n",
    "Submit as usual\n"
   ]
  }
 ],
 "metadata": {
  "celltoolbar": "Create Assignment",
  "kernelspec": {
   "display_name": "Python 3",
   "language": "python",
   "name": "python3"
  },
  "language_info": {
   "codemirror_mode": {
    "name": "ipython",
    "version": 3
   },
   "file_extension": ".py",
   "mimetype": "text/x-python",
   "name": "python",
   "nbconvert_exporter": "python",
   "pygments_lexer": "ipython3",
   "version": "3.9.16"
  }
 },
 "nbformat": 4,
 "nbformat_minor": 2
}
